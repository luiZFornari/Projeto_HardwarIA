{
  "cells": [
    {
      "cell_type": "markdown",
      "metadata": {
        "id": "view-in-github",
        "colab_type": "text"
      },
      "source": [
        "<a href=\"https://colab.research.google.com/github/luiZFornari/Projeto_HardwarIA/blob/main/Projeto_Alura_HardwarIA.ipynb\" target=\"_parent\"><img src=\"https://colab.research.google.com/assets/colab-badge.svg\" alt=\"Open In Colab\"/></a>"
      ]
    },
    {
      "cell_type": "markdown",
      "source": [
        "# HardwarIA\n",
        "Recomendação de Componentes para Computador usando IA"
      ],
      "metadata": {
        "id": "DmBfRn92o26y"
      }
    },
    {
      "cell_type": "code",
      "source": [
        "# Conjunto de dados com peças e seus respectivos valores médios e notas.\n",
        "\n",
        "componentes = {\n",
        "    \"placa_mae\": {\n",
        "        \"ASUS ROG Strix Z790-E Gaming WiFi\": {\"price\": 3500, \"score\": 10},\n",
        "        \"X570 AORUS ELITE\": {\"price\": 1899, \"score\": 9},\n",
        "        \"MSI PRO Z690-A WIFI DDR4\": {\"price\": 2000, \"score\": 8},\n",
        "        \"ASRock B660M Steel Legend\": {\"price\": 1200, \"score\": 8},\n",
        "        \"B550M-Plus\": {\"price\": 1000, \"score\": 7},\n",
        "        \"B450M-PRO VDH MAX\": {\"price\": 699, \"score\": 6},\n",
        "        \"Gigabyte B760M DS3H AX DDR4\": {\"price\": 1000, \"score\": 6},\n",
        "        \"B550MX/E PRO\": {\"price\": 529, \"score\": 5}\n",
        "    },\n",
        "    \"processador\": {\n",
        "        \"Intel Core i9 13900K\": {\"price\": 4000, \"score\": 16},\n",
        "        \"AMD Ryzen 9 5900X\": {\"price\": 2000, \"score\": 15},\n",
        "        \"AMD Ryzen 7 5800X\": {\"price\": 1500, \"score\": 14},\n",
        "        \"AMD Ryzen 7 7800X3D\": {\"price\": 2800, \"score\": 14},\n",
        "        \"Intel Core i7 12700F\": {\"price\": 1800, \"score\": 13},\n",
        "        \"Intel Core i5 13600KF\": {\"price\": 2119, \"score\": 12},\n",
        "        \"Intel Core i5 13400\": {\"price\": 1500, \"score\": 11},\n",
        "        \"AMD Ryzen 5 5600X\": {\"price\": 1200, \"score\": 10},\n",
        "        \"Intel Core i3 13100\": {\"price\": 1000, \"score\": 9},\n",
        "        \"Intel Core i5 10400\": {\"price\": 850, \"score\": 8},\n",
        "        \"Ryzen 5 4600G\": {\"price\": 628, \"score\": 8},\n",
        "        \"Ryzen 3 5300G\": {\"price\": 700, \"score\": 7},\n",
        "        \"Intel Core i3 12100F\": {\"price\": 599, \"score\": 7},\n",
        "        \"Ryzen 5 4500\": {\"price\": 490, \"score\": 6},\n",
        "        \"Ryzen 3 3300X\": {\"price\": 550, \"score\": 6},\n",
        "        \"Ryzen 3 3100\": {\"price\": 400, \"score\": 5}\n",
        "    },\n",
        "    \"memoria_ram\": {\n",
        "        \"128GB \": {\"price\": 1200, \"score\": 11},\n",
        "        \"64GB \": {\"price\": 850, \"score\": 10},\n",
        "        \"32GB \": {\"price\": 650, \"score\": 8},\n",
        "        \"16GB \": {\"price\": 300, \"score\": 7},\n",
        "        \"8GB \": {\"price\": 150, \"score\": 5}\n",
        "    },\n",
        "    \"placa_de_video\": {\n",
        "        \"RTX 4090\": {\"price\": 10000, \"score\": 40},\n",
        "        \"RTX 4080\": {\"price\": 6000, \"score\": 35},\n",
        "        \"RX 7900 XTX\": {\"price\": 5500, \"score\": 33},\n",
        "        \"RTX 3070\": {\"price\": 2500, \"score\": 28},\n",
        "        \"RX 6700 XT\": {\"price\": 2000, \"score\": 25},\n",
        "        \"RTX 3060\": {\"price\": 1799, \"score\": 22},\n",
        "        \"RTX 3050\": {\"price\": 1399, \"score\": 18},\n",
        "        \"GTX 1660\": {\"price\": 1099, \"score\": 16},\n",
        "        \"GTX 1650\": {\"price\": 900, \"score\": 12},\n",
        "        \"sem_placa\": {\"price\": 0, \"score\": 0}\n",
        "    },\n",
        "    \"fonte\": {\n",
        "        \"ASUS ROG Thor 1000W Platinum\": {\"price\": 800, \"score\": 5},\n",
        "        \"Cooler Master V850 SFX Gold\": {\"price\": 550, \"score\": 4},\n",
        "        \"Seasonic Focus GX-750\": {\"price\": 400, \"score\": 3},\n",
        "        \"EVGA 650 GQ\": {\"price\": 300, \"score\": 2},\n",
        "        \"Corsair CX500\": {\"price\": 200, \"score\": 1}\n",
        "    },\n",
        "    \"resfriamento\": {\n",
        "        \"Lian Li Galahad AIO 360\": {\"price\": 600, \"score\": 9},\n",
        "        \"Corsair iCUE H100i Elite Capellix\": {\"price\": 500, \"score\": 8},\n",
        "        \"NZXT Kraken X53\": {\"price\": 400, \"score\": 6},\n",
        "        \"Cooler Master Hyper 212\": {\"price\": 100, \"score\": 2}\n",
        "    },\n",
        "    \"armazenamento\": {\n",
        "        \"SSD NVMe 2TB\": {\"price\": 900, \"score\": 11},\n",
        "        \"SSD NVMe 1TB\": {\"price\": 500, \"score\": 10},\n",
        "        \"SSD NVMe 500GB\": {\"price\": 300, \"score\": 9},\n",
        "        \"SSD SATA 2TB\": {\"price\": 500, \"score\": 6},\n",
        "        \"SSD SATA 1TB\": {\"price\": 300, \"score\": 5},\n",
        "        \"HDD 2TB\": {\"price\": 300, \"score\": 2},\n",
        "        \"HDD 1TB\": {\"price\": 200, \"score\": 1}\n",
        "    }\n",
        "}\n",
        "\n",
        "# Peso de cada categoria para calculo no Algoritmo Genético\n",
        "peso_pontuacoes = {\n",
        "    \"placa_mae\": 1.0,\n",
        "    \"processador\": 2.5,\n",
        "    \"memoria_ram\": 1.0,\n",
        "    \"placa_de_video\": 2.0,\n",
        "    \"fonte\": 0.5,\n",
        "    \"resfriamento\": 0.5,\n",
        "    \"armazenamento\": 1.0\n",
        "}\n"
      ],
      "metadata": {
        "id": "LQw5gc12V_Vk"
      },
      "execution_count": 1,
      "outputs": []
    },
    {
      "cell_type": "markdown",
      "source": [
        "# Algoritmo Genético"
      ],
      "metadata": {
        "id": "9XNz-9f3p2n7"
      }
    },
    {
      "cell_type": "markdown",
      "source": [
        "O algoritmo genético assumirá a responsabilidade de iterar por várias combinações possíveis para gerar uma configuração válida. Ele selecionará a opção mais adequada após calcular os pesos, garantindo que se enquadre no orçamento fornecido pelo usuário."
      ],
      "metadata": {
        "id": "IMgBaspZrZ3n"
      }
    },
    {
      "cell_type": "code",
      "execution_count": 2,
      "metadata": {
        "colab": {
          "base_uri": "https://localhost:8080/"
        },
        "id": "m1nELvB3xDee",
        "outputId": "60cd91af-6594-4341-ee67-fd020a2a98e4"
      },
      "source": [
        "#Algoritmo genetico para escolha de melhores configurações\n",
        "\n",
        "import json\n",
        "import random\n",
        "import copy\n",
        "\n",
        "\n",
        "valor_orcamento = input(\"Digite o orçamento: \")\n",
        "\n",
        "tipo_usuario = input(\"Digite o objetivo de uso do computador: \")\n",
        "\n",
        "\n",
        "# Função para selecionar os pais usando o método de torneio\n",
        "def selecionar_pais(populacao, componentes, peso_pontuacoes):\n",
        "    pais = []\n",
        "    for _ in range(len(populacao)):\n",
        "        # Escolhe aleatoriamente um subconjunto da população\n",
        "        concorrentes = random.sample(populacao, min(3, len(populacao)))\n",
        "        # Adiciona o pai com a melhor pontuação desse subconjunto à lista de pais\n",
        "        pais.append(max(concorrentes, key=lambda x: calcular_pontuacao_total(x, componentes)))\n",
        "    return pais\n",
        "\n",
        "# Cria uma configuração aleatória inicial baseada nos componentes disponíveis e no limite de valor\n",
        "def criar_configuracao_aleatoria(componentes, limite_valor):\n",
        "    configuracao = {}\n",
        "    for tipo, opcoes in componentes.items():\n",
        "        # Escolhe aleatoriamente um componente dentro do limite de valor para cada tipo\n",
        "        opcoes_abaixo_do_limite = [comp for comp in opcoes if opcoes[comp][\"price\"] <= limite_valor]\n",
        "        if opcoes_abaixo_do_limite:\n",
        "            componente_escolhido = random.choice(opcoes_abaixo_do_limite)\n",
        "            configuracao[tipo] = componente_escolhido\n",
        "    return configuracao\n",
        "\n",
        "# Calcula o custo total de uma configuração\n",
        "def calcular_custo_total(configuracao, componentes):\n",
        "    custo_total = 0\n",
        "    for tipo, escolha in configuracao.items():\n",
        "        componente = componentes.get(tipo, {}).get(escolha)\n",
        "        custo_total += componente.get('price', 0)  # Se 'price' não existir, adiciona 0\n",
        "    return custo_total\n",
        "\n",
        "# Calcula a pontuação total de uma configuração baseada nos pesos fornecidos\n",
        "def calcular_pontuacao_total(configuracao, componentes):\n",
        "    pontuacao_total = 0\n",
        "    for tipo, escolha in configuracao.items():\n",
        "        score = componentes[tipo][escolha][\"score\"]\n",
        "        peso = peso_pontuacoes.get(tipo)\n",
        "\n",
        "        # Normaliza os scores para uma escala de 0 a 1\n",
        "        score_normalizado = (score - min(componentes[tipo][opcao][\"score\"] for opcao in componentes[tipo])) / \\\n",
        "                            (max(componentes[tipo][opcao][\"score\"] for opcao in componentes[tipo]) - \\\n",
        "                             min(componentes[tipo][opcao][\"score\"] for opcao in componentes[tipo]))\n",
        "\n",
        "        pontuacao_total += score_normalizado * peso\n",
        "    return pontuacao_total\n",
        "\n",
        "# Combina duas configurações para criar uma nova configuração\n",
        "def crossover(configuracao1, configuracao2):\n",
        "    nova_configuracao = {}\n",
        "    ponto_crossover = random.choice(list(configuracao1.keys()))\n",
        "    for tipo in configuracao1:\n",
        "        escolha = configuracao1[tipo] if tipo != ponto_crossover else configuracao2[tipo]\n",
        "        nova_configuracao[tipo] = escolha\n",
        "    return nova_configuracao\n",
        "\n",
        "# Aplica uma mutação a uma configuração com uma determinada taxa de mutação\n",
        "def mutacao(configuracao, componentes, taxa_mutacao):\n",
        "    tipo_mutacao = random.choice(list(configuracao.keys()))\n",
        "    escolha_mutacao = random.choice(list(componentes[tipo_mutacao].keys()))\n",
        "\n",
        "    if random.random() < taxa_mutacao:\n",
        "        configuracao[tipo_mutacao] = escolha_mutacao\n",
        "    return configuracao\n",
        "\n",
        "# Executa o algoritmo genético para encontrar a melhor configuração\n",
        "# Ajustar valores de geração e tamanho conforme dados de entrada (quanto maior o conjunto de entrada maior os valores)\n",
        "def algoritmo_genetico(componentes, limite_valor, peso_pontuacoes, geracoes=20000, tamanho_populacao=1000, taxa_mutacao=0.9):\n",
        "    populacao = []\n",
        "    while not populacao:\n",
        "        populacao = [criar_configuracao_aleatoria(componentes, limite_valor) for _ in range(tamanho_populacao)]\n",
        "\n",
        "    melhor_config = {}\n",
        "    custo_melhor_config = float('inf')\n",
        "    pontuacao_melhor_config = float('-inf')\n",
        "\n",
        "    for geracao in range(geracoes):\n",
        "        populacao = sorted(populacao, key=lambda x: calcular_custo_total(x, componentes))\n",
        "\n",
        "        pais = selecionar_pais(populacao, componentes, peso_pontuacoes)\n",
        "        proxima_geracao = []\n",
        "\n",
        "        for i in range(0, len(pais), 2):\n",
        "            pai1 = pais[i]\n",
        "            pai2 = pais[i + 1] if i + 1 < len(pais) else pais[i]\n",
        "\n",
        "            filho = crossover(pai1, pai2)\n",
        "\n",
        "            if random.random() < taxa_mutacao:\n",
        "                filho = mutacao(filho, componentes, taxa_mutacao)\n",
        "\n",
        "            proxima_geracao.append(filho)\n",
        "\n",
        "            custo_filho = calcular_custo_total(filho, componentes)\n",
        "            pontuacao_filho = calcular_pontuacao_total(filho, componentes)\n",
        "            if custo_filho < limite_valor_usuario and pontuacao_filho > pontuacao_melhor_config:\n",
        "                melhor_config = copy.deepcopy(filho)\n",
        "                custo_melhor_config = custo_filho\n",
        "                pontuacao_melhor_config = pontuacao_filho\n",
        "\n",
        "        populacao = proxima_geracao\n",
        "\n",
        "    return melhor_config, custo_melhor_config, pontuacao_melhor_config\n",
        "\n",
        "# Define um limite de valor e executa o algoritmo genético para encontrar a melhor configuração\n",
        "limite_valor_usuario = int(valor_orcamento)\n",
        "melhor_configuracao, custo_final, pontuacao_final = algoritmo_genetico(componentes, limite_valor_usuario, peso_pontuacoes)\n",
        "\n",
        "# Exibe a melhor configuração encontrada, se existir\n",
        "if melhor_configuracao:\n",
        "    print(\"Melhor configuração encontrada:\")\n",
        "    for tipo, escolha in melhor_configuracao.items():\n",
        "        preco_peca = componentes[tipo][escolha]['price']\n",
        "        print(f\"{tipo}: {escolha} - Preço: {preco_peca}\")\n",
        "    print(f\"Custo: {custo_final}\")\n",
        "else:\n",
        "    print(\"Não foi encontrada uma configuração válida dentro do limite de valor.\")\n"
      ]
    },
    {
      "cell_type": "markdown",
      "source": [
        "# GEMINI AI"
      ],
      "metadata": {
        "id": "lEdGhpjCp92J"
      }
    },
    {
      "cell_type": "markdown",
      "source": [
        "\n",
        "A IA será empregada para verificar a validade da configuração, considerando:\n",
        "\n",
        "* Compatibilidade de componentes\n",
        "* Eficiência de resfriamento\n",
        "* Consumo energético adequado\n",
        "\n",
        "Além disso, fornecerá feedback sobre se a configuração atende às necessidades do usuário.\n",
        "\n"
      ],
      "metadata": {
        "id": "b5YE1sGJqMcJ"
      }
    },
    {
      "cell_type": "code",
      "source": [
        "!pip install -q -U google-generativeai"
      ],
      "metadata": {
        "id": "KvAvhR1zWozK"
      },
      "execution_count": 3,
      "outputs": []
    },
    {
      "cell_type": "markdown",
      "source": [],
      "metadata": {
        "id": "tNmb673grHjF"
      }
    },
    {
      "cell_type": "code",
      "source": [
        "import google.generativeai as genai\n",
        "\n",
        "from google.colab import userdata\n",
        "api_key = userdata.get('SECRET_KEY')\n",
        "\n",
        "genai.configure(api_key=api_key)"
      ],
      "metadata": {
        "id": "FQALto8ZXQ0q"
      },
      "execution_count": 4,
      "outputs": []
    },
    {
      "cell_type": "code",
      "source": [
        "# Configurações da AI\n",
        "\n",
        "generation_config ={\n",
        "    \"candidate_count\":1,\n",
        "    \"temperature\": 1,\n",
        "}"
      ],
      "metadata": {
        "id": "CSpj7KsNZ94y"
      },
      "execution_count": 5,
      "outputs": []
    },
    {
      "cell_type": "code",
      "source": [
        "# Inicialização do modelo escolhido com a configuração\n",
        "model = genai.GenerativeModel(\"gemini-1.0-pro\",\n",
        "                              generation_config=generation_config,\n",
        "                              )"
      ],
      "metadata": {
        "id": "XicRXUv7Xumq"
      },
      "execution_count": 6,
      "outputs": []
    },
    {
      "cell_type": "code",
      "source": [
        "from json import dumps\n",
        "\n",
        "prompt = (dumps(melhor_configuracao) + \"\\n\" +\n",
        "          \"**Objetivo:** Verificar a configuração.\" +\n",
        "          \"**Restrições:**\" +\n",
        "          f\"* A soma do preço de todas as peças não pode ultrapassar o valor de R${valor_orcamento}.\" +\n",
        "          \"* Considere a compatibilidade entre todas as peças.\" +\n",
        "          \"* Verificar a fonte de alimentação com potência adequada ao consumo energético do sistema.\" +\n",
        "          \"* Verificar  o tipo de resfriamento , levando em conta a temperatura esperada.\" +\n",
        "          f\"* Verifique se atente o tipo de usuario({tipo_usuario}), se nao atender indique possiveis melhorias na configuração.\" +\n",
        "          \"Saída:\" +\n",
        "          \" Liste as peças escolhidas com seus respectivos preços.\" +\n",
        "          f\" Mostre o valor total {custo_final}.\" +\n",
        "          \" Explique o raciocínio por trás das escolhas, considerando o objetivo e as restrições.\")\n",
        "\n",
        "# Enviando o prompt para o modelo e obtendo a resposta\n",
        "response = model.generate_content(prompt)\n",
        "print(response.text)\n"
      ],
      "metadata": {
        "id": "ExX8VA0Mb6k6",
        "colab": {
          "base_uri": "https://localhost:8080/",
          "height": 441
        },
        "outputId": "85c6eaee-af2a-4752-b7c2-f73f92c62da7"
      },
      "execution_count": 9,
    }
  ],
  "metadata": {
    "colab": {
      "provenance": [],
      "include_colab_link": true
    },
    "kernelspec": {
      "display_name": "Python 3",
      "name": "python3"
    }
  },
  "nbformat": 4,
  "nbformat_minor": 0
}
